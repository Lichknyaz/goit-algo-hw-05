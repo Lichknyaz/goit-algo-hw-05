{
 "cells": [
  {
   "metadata": {},
   "cell_type": "markdown",
   "source": [
    "# Завдання 1\n",
    "\n",
    "Додати метод delete для видалення пар ключ-значення таблиці HashTable , яка реалізована в конспекті."
   ],
   "id": "55ec42f491f0e431"
  },
  {
   "cell_type": "code",
   "id": "initial_id",
   "metadata": {
    "collapsed": true,
    "ExecuteTime": {
     "end_time": "2024-07-18T03:11:06.385436Z",
     "start_time": "2024-07-18T03:11:06.379363Z"
    }
   },
   "source": [
    "class HashTable:\n",
    "    def __init__(self, size):\n",
    "        self.size = size\n",
    "        self.table = [[] for _ in range(self.size)]\n",
    "\n",
    "    def hash_function(self, key):\n",
    "        return hash(key) % self.size\n",
    "\n",
    "    def insert(self, key, value):\n",
    "        key_hash = self.hash_function(key)\n",
    "        key_value = [key, value]\n",
    "\n",
    "        if self.table[key_hash] is None:\n",
    "            self.table[key_hash] = list([key_value])\n",
    "            return True\n",
    "        else:\n",
    "            for pair in self.table[key_hash]:\n",
    "                if pair[0] == key:\n",
    "                    pair[1] = value\n",
    "                    return True\n",
    "            self.table[key_hash].append(key_value)\n",
    "            return True\n",
    "\n",
    "    def get(self, key):\n",
    "        key_hash = self.hash_function(key)\n",
    "        if self.table[key_hash] is not None:\n",
    "            for pair in self.table[key_hash]:\n",
    "                if pair[0] == key:\n",
    "                    return pair[1]\n",
    "        return None\n",
    "    \n",
    "    def delete(self, key):\n",
    "        key_hash = self.hash_function(key)\n",
    "        if self.table[key_hash] is not None:\n",
    "            for pair in self.table[key_hash]:\n",
    "                if pair[0] == key:\n",
    "                    self.table[key_hash].remove(pair)\n",
    "                    return f\"\"\"Key \"{key}\" was deleted\"\"\"\n",
    "        return None\n",
    "\n",
    "\n"
   ],
   "outputs": [],
   "execution_count": 8
  },
  {
   "metadata": {
    "ExecuteTime": {
     "end_time": "2024-07-18T03:12:49.894276Z",
     "start_time": "2024-07-18T03:12:49.890075Z"
    }
   },
   "cell_type": "code",
   "source": [
    "# Тестуємо нашу хеш-таблицю:\n",
    "H = HashTable(5)\n",
    "H.insert(\"apple\", 10)\n",
    "H.insert(\"orange\", 20)\n",
    "H.insert(\"banana\", 30)\n",
    "\n",
    "\n",
    "print(H.get(\"apple\"))   # Виведе: 10\n",
    "print(H.get(\"orange\"))  # Виведе: 20\n",
    "print(H.get(\"banana\"))  # Виведе: 30"
   ],
   "id": "9572651919f3165",
   "outputs": [
    {
     "name": "stdout",
     "output_type": "stream",
     "text": [
      "None\n",
      "20\n",
      "30\n"
     ]
    }
   ],
   "execution_count": 13
  },
  {
   "metadata": {
    "ExecuteTime": {
     "end_time": "2024-07-18T03:11:09.941058Z",
     "start_time": "2024-07-18T03:11:09.935529Z"
    }
   },
   "cell_type": "code",
   "source": "H.delete(\"banana\")",
   "id": "4dcf3cc29afbe1c5",
   "outputs": [
    {
     "data": {
      "text/plain": [
       "'Key \"banana\" was deleted'"
      ]
     },
     "execution_count": 10,
     "metadata": {},
     "output_type": "execute_result"
    }
   ],
   "execution_count": 10
  },
  {
   "metadata": {
    "ExecuteTime": {
     "end_time": "2024-07-18T03:11:16.641218Z",
     "start_time": "2024-07-18T03:11:16.637821Z"
    }
   },
   "cell_type": "code",
   "source": "print(H.get(\"banana\")) ",
   "id": "21e1e8f2c8c1da04",
   "outputs": [
    {
     "name": "stdout",
     "output_type": "stream",
     "text": [
      "None\n"
     ]
    }
   ],
   "execution_count": 11
  }
 ],
 "metadata": {
  "kernelspec": {
   "display_name": "Python 3",
   "language": "python",
   "name": "python3"
  },
  "language_info": {
   "codemirror_mode": {
    "name": "ipython",
    "version": 2
   },
   "file_extension": ".py",
   "mimetype": "text/x-python",
   "name": "python",
   "nbconvert_exporter": "python",
   "pygments_lexer": "ipython2",
   "version": "2.7.6"
  }
 },
 "nbformat": 4,
 "nbformat_minor": 5
}
