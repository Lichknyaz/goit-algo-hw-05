{
 "cells": [
  {
   "metadata": {},
   "cell_type": "markdown",
   "source": [
    "# Завдання 3\n",
    "\n",
    "Порівняти ефективність алгоритмів пошуку підрядка: Боєра-Мура, Кнута-Морріса-Пратта та Рабіна-Карпа на основі двох текстових файлів (стаття 1, стаття 2). Використовуючи timeit, треба виміряти час виконання кожного алгоритму для двох видів підрядків: одного, що дійсно існує в тексті, та іншого — вигаданого (вибір підрядків за вашим бажанням). На основі отриманих даних визначити найшвидший алгоритм для кожного тексту окремо та в цілому."
   ],
   "id": "f4770bd2f6d744b3"
  },
  {
   "metadata": {
    "ExecuteTime": {
     "end_time": "2024-07-18T11:26:12.673152Z",
     "start_time": "2024-07-18T11:26:12.670168Z"
    }
   },
   "cell_type": "code",
   "source": "import timeit",
   "id": "3fe6e590a5ebd39b",
   "outputs": [],
   "execution_count": 49
  },
  {
   "metadata": {},
   "cell_type": "markdown",
   "source": "## Алгоритм Боєра-Мура",
   "id": "a7452ce98898707"
  },
  {
   "cell_type": "code",
   "id": "initial_id",
   "metadata": {
    "collapsed": true,
    "ExecuteTime": {
     "end_time": "2024-07-18T11:26:12.813217Z",
     "start_time": "2024-07-18T11:26:12.806332Z"
    }
   },
   "source": [
    "def build_shift_table(pattern):\n",
    "  \"\"\"Створити таблицю зсувів для алгоритму Боєра-Мура.\"\"\"\n",
    "  table = {}\n",
    "  length = len(pattern)\n",
    "  # Для кожного символу в підрядку встановлюємо зсув рівний довжині підрядка\n",
    "  for index, char in enumerate(pattern[:-1]):\n",
    "    table[char] = length - index - 1\n",
    "  # Якщо символу немає в таблиці, зсув буде дорівнювати довжині підрядка\n",
    "  table.setdefault(pattern[-1], length)\n",
    "  return table\n",
    "\n",
    "def boyer_moore_search(text, pattern):\n",
    "  # Створюємо таблицю зсувів для патерну (підрядка)\n",
    "  shift_table = build_shift_table(pattern)\n",
    "  i = 0 # Ініціалізуємо початковий індекс для основного тексту\n",
    "\n",
    "  # Проходимо по основному тексту, порівнюючи з підрядком\n",
    "  while i <= len(text) - len(pattern):\n",
    "    j = len(pattern) - 1 # Починаємо з кінця підрядка\n",
    "\n",
    "    # Порівнюємо символи від кінця підрядка до його початку\n",
    "    while j >= 0 and text[i + j] == pattern[j]:\n",
    "      j -= 1 # Зсуваємось до початку підрядка\n",
    "\n",
    "    # Якщо весь підрядок збігається, повертаємо його позицію в тексті\n",
    "    if j < 0:\n",
    "      return i # Підрядок знайдено\n",
    "\n",
    "    # Зсуваємо індекс i на основі таблиці зсувів\n",
    "    # Це дозволяє \"перестрибувати\" над неспівпадаючими частинами тексту\n",
    "    i += shift_table.get(text[i + len(pattern) - 1], len(pattern))\n",
    "\n",
    "  # Якщо підрядок не знайдено, повертаємо -1\n",
    "  return -1\n",
    "\n"
   ],
   "outputs": [],
   "execution_count": 50
  },
  {
   "metadata": {},
   "cell_type": "markdown",
   "source": "## Алгоритм Рабіна-Карпа",
   "id": "4d00d7aef56cef40"
  },
  {
   "metadata": {
    "ExecuteTime": {
     "end_time": "2024-07-18T11:26:12.848356Z",
     "start_time": "2024-07-18T11:26:12.814229Z"
    }
   },
   "cell_type": "code",
   "source": [
    "def polynomial_hash(s, base=256, modulus=101):\n",
    "    \"\"\"\n",
    "    Повертає поліноміальний хеш рядка s.\n",
    "    \"\"\"\n",
    "    n = len(s)\n",
    "    hash_value = 0\n",
    "    for i, char in enumerate(s):\n",
    "        power_of_base = pow(base, n - i - 1) % modulus\n",
    "        hash_value = (hash_value + ord(char) * power_of_base) % modulus\n",
    "    return hash_value\n",
    "\n",
    "def rabin_karp_search(main_string, substring):\n",
    "    # Довжини основного рядка та підрядка пошуку\n",
    "    substring_length = len(substring)\n",
    "    main_string_length = len(main_string)\n",
    "    \n",
    "    # Базове число для хешування та модуль\n",
    "    base = 256 \n",
    "    modulus = 101  \n",
    "    \n",
    "    # Хеш-значення для підрядка пошуку та поточного відрізка в основному рядку\n",
    "    substring_hash = polynomial_hash(substring, base, modulus)\n",
    "    current_slice_hash = polynomial_hash(main_string[:substring_length], base, modulus)\n",
    "    \n",
    "    # Попереднє значення для перерахунку хешу\n",
    "    h_multiplier = pow(base, substring_length - 1) % modulus\n",
    "    \n",
    "    # Проходимо крізь основний рядок\n",
    "    for i in range(main_string_length - substring_length + 1):\n",
    "        if substring_hash == current_slice_hash:\n",
    "            if main_string[i:i+substring_length] == substring:\n",
    "                return i\n",
    "\n",
    "        if i < main_string_length - substring_length:\n",
    "            current_slice_hash = (current_slice_hash - ord(main_string[i]) * h_multiplier) % modulus\n",
    "            current_slice_hash = (current_slice_hash * base + ord(main_string[i + substring_length])) % modulus\n",
    "            if current_slice_hash < 0:\n",
    "                current_slice_hash += modulus\n",
    "\n",
    "    return -1\n"
   ],
   "id": "f5c53bc811e6c240",
   "outputs": [],
   "execution_count": 51
  },
  {
   "metadata": {},
   "cell_type": "markdown",
   "source": "## Алгоритм Кнута-Морріса-Пратта",
   "id": "5b6279ddf14fe94"
  },
  {
   "metadata": {
    "ExecuteTime": {
     "end_time": "2024-07-18T11:26:12.855020Z",
     "start_time": "2024-07-18T11:26:12.849358Z"
    }
   },
   "cell_type": "code",
   "source": [
    "def compute_lps(pattern):\n",
    "    lps = [0] * len(pattern)\n",
    "    length = 0\n",
    "    i = 1\n",
    "\n",
    "    while i < len(pattern):\n",
    "        if pattern[i] == pattern[length]:\n",
    "            length += 1\n",
    "            lps[i] = length\n",
    "            i += 1\n",
    "        else:\n",
    "            if length != 0:\n",
    "                length = lps[length - 1]\n",
    "            else:\n",
    "                lps[i] = 0\n",
    "                i += 1\n",
    "\n",
    "    return lps\n",
    "\n",
    "def kmp_search(main_string, pattern):\n",
    "    M = len(pattern)\n",
    "    N = len(main_string)\n",
    "\n",
    "    lps = compute_lps(pattern)\n",
    "\n",
    "    i = j = 0\n",
    "\n",
    "    while i < N:\n",
    "        if pattern[j] == main_string[i]:\n",
    "            i += 1\n",
    "            j += 1\n",
    "        elif j != 0:\n",
    "            j = lps[j - 1]\n",
    "        else:\n",
    "            i += 1\n",
    "\n",
    "        if j == M:\n",
    "            return i - j\n",
    "\n",
    "    return -1  # якщо підрядок не знайдено\n"
   ],
   "id": "dbaccd91ccdf95a2",
   "outputs": [],
   "execution_count": 52
  },
  {
   "metadata": {},
   "cell_type": "markdown",
   "source": "## Стаття 1",
   "id": "741052e27a8c921b"
  },
  {
   "metadata": {
    "ExecuteTime": {
     "end_time": "2024-07-18T11:34:15.223638Z",
     "start_time": "2024-07-18T11:34:15.172299Z"
    }
   },
   "cell_type": "code",
   "source": [
    "with open(\"стаття 1.txt\", \"r\") as f:\n",
    "    text_1 = f.read()"
   ],
   "id": "f94bb449e8273334",
   "outputs": [],
   "execution_count": 75
  },
  {
   "metadata": {},
   "cell_type": "markdown",
   "source": "### Рядок є в тексті",
   "id": "e75e933a8e085d33"
  },
  {
   "metadata": {
    "ExecuteTime": {
     "end_time": "2024-07-18T11:35:43.643027Z",
     "start_time": "2024-07-18T11:35:43.639376Z"
    }
   },
   "cell_type": "code",
   "source": "substring_1_in = \"припинення\"",
   "id": "a61d5926a1e57f4a",
   "outputs": [],
   "execution_count": 101
  },
  {
   "metadata": {
    "ExecuteTime": {
     "end_time": "2024-07-18T11:35:46.163034Z",
     "start_time": "2024-07-18T11:35:45.988192Z"
    }
   },
   "cell_type": "code",
   "source": "print(\"Rabin-Karp search: \", timeit.timeit('rabin_karp_search(text_1, substring_1_in)', globals=globals(), number = 100))",
   "id": "1726e96ba1a961fd",
   "outputs": [
    {
     "name": "stdout",
     "output_type": "stream",
     "text": [
      "Rabin-Karp search:  0.1699261000030674\n"
     ]
    }
   ],
   "execution_count": 102
  },
  {
   "metadata": {
    "ExecuteTime": {
     "end_time": "2024-07-18T11:35:51.271188Z",
     "start_time": "2024-07-18T11:35:51.245407Z"
    }
   },
   "cell_type": "code",
   "source": "print(\"Boyer-Moore search: \", timeit.timeit('boyer_moore_search(text_1, substring_1_in)', globals=globals(), number = 100))",
   "id": "c08a6484277be56b",
   "outputs": [
    {
     "name": "stdout",
     "output_type": "stream",
     "text": [
      "Boyer-Moore search:  0.021776399997179396\n"
     ]
    }
   ],
   "execution_count": 103
  },
  {
   "metadata": {
    "ExecuteTime": {
     "end_time": "2024-07-18T11:35:53.759998Z",
     "start_time": "2024-07-18T11:35:53.686369Z"
    }
   },
   "cell_type": "code",
   "source": "print(\"KMP search: \", timeit.timeit('kmp_search(text_1, substring_1_in)', globals=globals(), number = 100))",
   "id": "99fb36461718a05c",
   "outputs": [
    {
     "name": "stdout",
     "output_type": "stream",
     "text": [
      "KMP search:  0.0698465000023134\n"
     ]
    }
   ],
   "execution_count": 104
  },
  {
   "metadata": {},
   "cell_type": "markdown",
   "source": "### Рядка немає в тексті",
   "id": "f9b9a3f6613bcdb2"
  },
  {
   "metadata": {
    "ExecuteTime": {
     "end_time": "2024-07-18T11:35:56.742376Z",
     "start_time": "2024-07-18T11:35:56.738951Z"
    }
   },
   "cell_type": "code",
   "source": "substring_1_out = \"раовліщцщ\"",
   "id": "b6c60601ead58887",
   "outputs": [],
   "execution_count": 105
  },
  {
   "metadata": {
    "ExecuteTime": {
     "end_time": "2024-07-18T11:35:57.756957Z",
     "start_time": "2024-07-18T11:35:57.198261Z"
    }
   },
   "cell_type": "code",
   "source": "print(\"Rabin-Karp search (not in text): \", timeit.timeit('rabin_karp_search(text_1, substring_1_out)', globals=globals(), number = 100))",
   "id": "c4cf02bdf1156c2e",
   "outputs": [
    {
     "name": "stdout",
     "output_type": "stream",
     "text": [
      "Rabin-Karp search (not in text):  0.5539539000019431\n"
     ]
    }
   ],
   "execution_count": 106
  },
  {
   "metadata": {
    "ExecuteTime": {
     "end_time": "2024-07-18T11:35:58.628798Z",
     "start_time": "2024-07-18T11:35:58.552831Z"
    }
   },
   "cell_type": "code",
   "source": "print(\"Boyer-Moore search (not in text): \", timeit.timeit('boyer_moore_search(text_1, substring_1_out)', globals=globals(), number = 100))",
   "id": "41221ced699d4761",
   "outputs": [
    {
     "name": "stdout",
     "output_type": "stream",
     "text": [
      "Boyer-Moore search (not in text):  0.07119160000002012\n"
     ]
    }
   ],
   "execution_count": 107
  },
  {
   "metadata": {
    "ExecuteTime": {
     "end_time": "2024-07-18T11:35:59.779653Z",
     "start_time": "2024-07-18T11:35:59.555250Z"
    }
   },
   "cell_type": "code",
   "source": "print(\"KMP search (not in text): \", timeit.timeit('kmp_search(text_1, substring_1_out)', globals=globals(), number = 100))",
   "id": "8fddc727ee8e2d9d",
   "outputs": [
    {
     "name": "stdout",
     "output_type": "stream",
     "text": [
      "KMP search (not in text):  0.22003350000886712\n"
     ]
    }
   ],
   "execution_count": 108
  },
  {
   "metadata": {},
   "cell_type": "markdown",
   "source": "## Стаття 2",
   "id": "5465a62b5472552e"
  },
  {
   "metadata": {
    "ExecuteTime": {
     "end_time": "2024-07-18T11:36:01.447819Z",
     "start_time": "2024-07-18T11:36:01.443947Z"
    }
   },
   "cell_type": "code",
   "source": [
    "with open(\"стаття 2.txt\", \"r\") as f:\n",
    "    text_2 = f.read()"
   ],
   "id": "b7ac41e66fc7406a",
   "outputs": [],
   "execution_count": 109
  },
  {
   "metadata": {},
   "cell_type": "markdown",
   "source": "### Рядок є в тексті",
   "id": "9a2e441f2c1c432f"
  },
  {
   "metadata": {
    "ExecuteTime": {
     "end_time": "2024-07-18T11:36:02.649020Z",
     "start_time": "2024-07-18T11:36:02.646394Z"
    }
   },
   "cell_type": "code",
   "source": "substring_2_in = \"Савватеев\"",
   "id": "1a4fedd3cdeb0fa8",
   "outputs": [],
   "execution_count": 110
  },
  {
   "metadata": {
    "ExecuteTime": {
     "end_time": "2024-07-18T11:36:04.936134Z",
     "start_time": "2024-07-18T11:36:04.181024Z"
    }
   },
   "cell_type": "code",
   "source": "print(\"Rabin-Karp search: \", timeit.timeit('rabin_karp_search(text_2, substring_2_in)', globals=globals(), number = 100))",
   "id": "9df815cd4b89cdc8",
   "outputs": [
    {
     "name": "stdout",
     "output_type": "stream",
     "text": [
      "Rabin-Karp search:  0.7512909999932162\n"
     ]
    }
   ],
   "execution_count": 111
  },
  {
   "metadata": {
    "ExecuteTime": {
     "end_time": "2024-07-18T11:36:05.890347Z",
     "start_time": "2024-07-18T11:36:05.781530Z"
    }
   },
   "cell_type": "code",
   "source": "print(\"Boyer-Moore search: \", timeit.timeit('boyer_moore_search(text_2, substring_2_in)', globals=globals(), number = 100))",
   "id": "12ae3fb997dc6b34",
   "outputs": [
    {
     "name": "stdout",
     "output_type": "stream",
     "text": [
      "Boyer-Moore search:  0.10387690000061411\n"
     ]
    }
   ],
   "execution_count": 112
  },
  {
   "metadata": {
    "ExecuteTime": {
     "end_time": "2024-07-18T11:36:06.832296Z",
     "start_time": "2024-07-18T11:36:06.544989Z"
    }
   },
   "cell_type": "code",
   "source": "print(\"KMP search: \", timeit.timeit('kmp_search(text_2, substring_2_in)', globals=globals(), number = 100))",
   "id": "5bc7075878aa65b4",
   "outputs": [
    {
     "name": "stdout",
     "output_type": "stream",
     "text": [
      "KMP search:  0.28361060000315774\n"
     ]
    }
   ],
   "execution_count": 113
  },
  {
   "metadata": {},
   "cell_type": "markdown",
   "source": "### Рядка немає в тексті",
   "id": "4c90b15b43d57c26"
  },
  {
   "metadata": {
    "ExecuteTime": {
     "end_time": "2024-07-18T11:36:08.083196Z",
     "start_time": "2024-07-18T11:36:08.079513Z"
    }
   },
   "cell_type": "code",
   "source": "substring_2_out = \"раовліщцщ\"",
   "id": "952b5fa0cb959f52",
   "outputs": [],
   "execution_count": 114
  },
  {
   "metadata": {
    "ExecuteTime": {
     "end_time": "2024-07-18T11:36:09.562591Z",
     "start_time": "2024-07-18T11:36:08.665533Z"
    }
   },
   "cell_type": "code",
   "source": "print(\"Rabin-Karp search (not in text): \", timeit.timeit('rabin_karp_search(text_2, substring_2_out)', globals=globals(), number = 100))",
   "id": "8fdfc271476e77b6",
   "outputs": [
    {
     "name": "stdout",
     "output_type": "stream",
     "text": [
      "Rabin-Karp search (not in text):  0.8927360999950906\n"
     ]
    }
   ],
   "execution_count": 115
  },
  {
   "metadata": {
    "ExecuteTime": {
     "end_time": "2024-07-18T11:36:10.418809Z",
     "start_time": "2024-07-18T11:36:10.309601Z"
    }
   },
   "cell_type": "code",
   "source": "print(\"Boyer-Moore search (not in text): \", timeit.timeit('boyer_moore_search(text_2, substring_2_out)', globals=globals(), number = 100))",
   "id": "4a0d297019a034f7",
   "outputs": [
    {
     "name": "stdout",
     "output_type": "stream",
     "text": [
      "Boyer-Moore search (not in text):  0.10494469999684952\n"
     ]
    }
   ],
   "execution_count": 116
  },
  {
   "metadata": {
    "ExecuteTime": {
     "end_time": "2024-07-18T11:36:12.265710Z",
     "start_time": "2024-07-18T11:36:11.938989Z"
    }
   },
   "cell_type": "code",
   "source": "  print(\"KMP search (not in text): \", timeit.timeit('kmp_search(text_2, substring_2_out)', globals=globals(), number = 100))",
   "id": "4bf801e48d68aea9",
   "outputs": [
    {
     "name": "stdout",
     "output_type": "stream",
     "text": [
      "KMP search (not in text):  0.3223743000125978\n"
     ]
    }
   ],
   "execution_count": 117
  },
  {
   "metadata": {},
   "cell_type": "markdown",
   "source": [
    "# Висновки\n",
    "\n",
    "Найшвидшим з усіх пошуків виявився Boyer-Moore алгоритм, він показує стабіну швидкодію незалежно від того чи існує рядок у тексті, чи ні.\n",
    "\n",
    "Два інших алгоритма показують дещо гірші результати, особливо якщо рядка не існує у тексті."
   ],
   "id": "9dabb9cfd6dc9ceb"
  }
 ],
 "metadata": {
  "kernelspec": {
   "display_name": "Python 3",
   "language": "python",
   "name": "python3"
  },
  "language_info": {
   "codemirror_mode": {
    "name": "ipython",
    "version": 2
   },
   "file_extension": ".py",
   "mimetype": "text/x-python",
   "name": "python",
   "nbconvert_exporter": "python",
   "pygments_lexer": "ipython2",
   "version": "2.7.6"
  }
 },
 "nbformat": 4,
 "nbformat_minor": 5
}
