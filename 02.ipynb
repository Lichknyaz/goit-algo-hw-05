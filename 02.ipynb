{
 "cells": [
  {
   "metadata": {},
   "cell_type": "markdown",
   "source": [
    "# Завдання 2\n",
    "\n",
    "Реалізувати двійковий пошук для відсортованого масиву з дробовими числами. Написана функція для двійкового пошуку повинна повертати кортеж, де першим елементом є кількість ітерацій, потрібних для знаходження елемента. Другим елементом має бути \"верхня межа\" — це найменший елемент, який є більшим або рівним заданому значенню."
   ],
   "id": "51eb8dfce6998845"
  },
  {
   "metadata": {
    "ExecuteTime": {
     "end_time": "2024-07-18T11:41:46.589416Z",
     "start_time": "2024-07-18T11:41:46.565582Z"
    }
   },
   "cell_type": "code",
   "source": "import random",
   "id": "7f955af580b4f06a",
   "outputs": [],
   "execution_count": 36
  },
  {
   "metadata": {
    "ExecuteTime": {
     "end_time": "2024-07-18T11:41:46.602947Z",
     "start_time": "2024-07-18T11:41:46.593412Z"
    }
   },
   "cell_type": "code",
   "source": [
    "def binary_search(arr, x):\n",
    "    low = 0\n",
    "    high = len(arr) - 1\n",
    "    result = None\n",
    "    counter = 0\n",
    " \n",
    "    while low <= high:\n",
    "        counter += 1\n",
    "        mid = (high + low) // 2\n",
    " \n",
    "        if arr[mid] < x:\n",
    "            low = mid + 1\n",
    " \n",
    "\n",
    "        elif arr[mid] == x:\n",
    "            return arr[mid], counter\n",
    " \n",
    "        else:\n",
    "            high = mid - 1\n",
    "            result = arr[mid]\n",
    " \n",
    "    return result, counter\n"
   ],
   "id": "10035c99bd493a3e",
   "outputs": [],
   "execution_count": 37
  },
  {
   "metadata": {
    "ExecuteTime": {
     "end_time": "2024-07-19T01:41:46.903469Z",
     "start_time": "2024-07-19T01:41:46.899136Z"
    }
   },
   "cell_type": "code",
   "source": [
    "def generate_array():\n",
    "    arr = []    \n",
    "    for _ in range(random.randint(1, 50)):\n",
    "            arr.append(random.randint(1, 1000))\n",
    "            arr_dec = [(x / 10) for x in arr ]\n",
    "            arr_dec.sort()\n",
    "    return arr_dec"
   ],
   "id": "82f18264b3157604",
   "outputs": [],
   "execution_count": 45
  },
  {
   "metadata": {
    "ExecuteTime": {
     "end_time": "2024-07-19T01:42:20.307659Z",
     "start_time": "2024-07-19T01:42:20.303231Z"
    }
   },
   "cell_type": "code",
   "source": [
    "arr = generate_array()\n",
    "print(arr)"
   ],
   "id": "7f596560a89d7809",
   "outputs": [
    {
     "name": "stdout",
     "output_type": "stream",
     "text": [
      "[0.9, 5.9, 7.1, 7.7, 9.5, 9.8, 15.1, 18.2, 19.0, 20.5, 26.9, 29.2, 32.1, 33.8, 35.1, 47.2, 47.8, 48.1, 52.7, 53.6, 53.7, 56.6, 57.8, 58.4, 59.4, 77.3, 81.2, 86.5, 94.2, 97.1, 98.2]\n"
     ]
    }
   ],
   "execution_count": 47
  },
  {
   "metadata": {
    "ExecuteTime": {
     "end_time": "2024-07-18T11:42:24.026558Z",
     "start_time": "2024-07-18T11:42:21.915090Z"
    }
   },
   "cell_type": "code",
   "source": [
    "x = int(input(\"Enter a number: \"))\n",
    "result = binary_search(arr, x)\n",
    "\n",
    "if result[0] is not None:\n",
    "    print(f\"Lowest higher number is {result[0]} found in {result[1]} iterations \")\n",
    "else:\n",
    "    print(f\"There is no element higher than {x} in this array\")"
   ],
   "id": "4fe44d1509236cdb",
   "outputs": [
    {
     "name": "stdout",
     "output_type": "stream",
     "text": [
      "Lowest higher number is 13 found in 4 iterations \n"
     ]
    }
   ],
   "execution_count": 42
  }
 ],
 "metadata": {
  "kernelspec": {
   "display_name": "Python 3",
   "language": "python",
   "name": "python3"
  },
  "language_info": {
   "codemirror_mode": {
    "name": "ipython",
    "version": 2
   },
   "file_extension": ".py",
   "mimetype": "text/x-python",
   "name": "python",
   "nbconvert_exporter": "python",
   "pygments_lexer": "ipython2",
   "version": "2.7.6"
  }
 },
 "nbformat": 4,
 "nbformat_minor": 5
}
